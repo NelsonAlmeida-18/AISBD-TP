{
 "cells": [
  {
   "cell_type": "code",
   "execution_count": 10,
   "metadata": {},
   "outputs": [],
   "source": [
    "# Imports\n",
    "from bs4 import BeautifulSoup as bs\n",
    "import requests\n",
    "import pandas as pd\n",
    "import re"
   ]
  },
  {
   "cell_type": "code",
   "execution_count": 48,
   "metadata": {},
   "outputs": [
    {
     "name": "stdout",
     "output_type": "stream",
     "text": [
      "Done\n"
     ]
    }
   ],
   "source": [
    "\n",
    "# URL\n",
    "url = \"https://www.numbeo.com/cost-of-living/rankings_by_country.jsp\"\n",
    "\n",
    "#get the webpage\n",
    "page = requests.get(url)\n",
    "dataset = {}\n",
    "\n",
    "#get the dates available from the page selector\n",
    "selectorName = \"select[name='title']\"\n",
    "bsObj = bs(page.content, \"html.parser\")\n",
    "#get the item with name title\n",
    "selector = bsObj.select(selectorName)\n",
    "#extract the dates\n",
    "dateRegex = \"option value=\\\"(.*?)\\\"\"\n",
    "dates = re.findall(dateRegex, str(selector))\n",
    "\n",
    "for date in dates:\n",
    "\n",
    "    if \"mid\" not in date:\n",
    "\n",
    "            newPage = requests.get(url + \"?title=\" + date)\n",
    "            bsObj = bs(newPage.content, \"html.parser\")\n",
    "            dataset[date] = {}\n",
    "\n",
    "            # select the table body\n",
    "            tableSelector = \"tbody\"\n",
    "            tableBody = bsObj.select(tableSelector)\n",
    "\n",
    "            # select the table rows\n",
    "            table = tableBody[0].select(\"tr\")\n",
    "\n",
    "            # split the table by <tr style=\"width: 100%\">\n",
    "            # each row has the following columns: cityOrCountryInIndicesTable=Country, Cost of Living, Rent Index, Cost of Living Plus Rent Index, Groceries Index, Restaurant Price Index, Local Purchasing Power Index\n",
    "            # extract the data from the table\n",
    "            for i in table:\n",
    "                splitData = str(i).split(\"\\n\")[2:-1]\n",
    "                dataRegex = \"<td .*?>(.*?)<\\/td>\"\n",
    "                data = re.findall(dataRegex, str(i))\n",
    "                countryName = data[0]\n",
    "                costOfLiving = data[1]\n",
    "                rentIndex = data[2]\n",
    "                costOfLivingPlusRentIndex = data[3]\n",
    "                groceriesIndex = data[4]\n",
    "                restaurantPriceIndex = data[5]\n",
    "                localPurchasingPowerIndex = data[6]\n",
    "                dataset[date][countryName] = [costOfLiving, rentIndex, costOfLivingPlusRentIndex, groceriesIndex, restaurantPriceIndex, localPurchasingPowerIndex]\n",
    "\n",
    "#create the csv file to store the data\n",
    "file = open(\"costOfLiving.csv\", \"w\")\n",
    "file.write(\"Date,Country,Cost of Living,Rent Index,Cost of Living Plus Rent Index,Groceries Index,Restaurant Price Index,Local Purchasing Power Index\\n\")\n",
    "for date in dataset:\n",
    "    for country in dataset[date]:\n",
    "        file.write(date + \",\" + country + \",\" + \",\".join(dataset[date][country]) + \"\\n\")\n",
    "file.close()\n",
    "print(\"Done\")\n"
   ]
  },
  {
   "cell_type": "code",
   "execution_count": null,
   "metadata": {},
   "outputs": [],
   "source": []
  }
 ],
 "metadata": {
  "kernelspec": {
   "display_name": "Python 3",
   "language": "python",
   "name": "python3"
  },
  "language_info": {
   "codemirror_mode": {
    "name": "ipython",
    "version": 3
   },
   "file_extension": ".py",
   "mimetype": "text/x-python",
   "name": "python",
   "nbconvert_exporter": "python",
   "pygments_lexer": "ipython3",
   "version": "3.11.6"
  }
 },
 "nbformat": 4,
 "nbformat_minor": 2
}
